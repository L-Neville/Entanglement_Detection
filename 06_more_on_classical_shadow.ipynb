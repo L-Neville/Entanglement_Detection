{
 "cells": [
  {
   "cell_type": "code",
   "execution_count": 1,
   "metadata": {},
   "outputs": [],
   "source": [
    "import numpy as np\n",
    "from qiskit.quantum_info import random_clifford, Pauli"
   ]
  },
  {
   "cell_type": "code",
   "execution_count": 4,
   "metadata": {},
   "outputs": [
    {
     "name": "stdout",
     "output_type": "stream",
     "text": [
      "Hilbert-Schmidt norms have been written to hilbert_schmidt_norms.txt\n"
     ]
    }
   ],
   "source": [
    "import numpy as np\n",
    "from itertools import product\n",
    "\n",
    "# Define Pauli matrices and identity matrix\n",
    "I = np.eye(2)\n",
    "X = np.array([[0, 1], [1, 0]])\n",
    "Y = np.array([[0, -1j], [1j, 0]])\n",
    "Z = np.array([[1, 0], [0, -1]])\n",
    "\n",
    "# List of matrices and their labels\n",
    "paulis = [I, X, Y, Z]\n",
    "pauli_labels = ['I', 'X', 'Y', 'Z']\n",
    "pauli_dict = {tuple(map(tuple, I)): 'I', tuple(map(tuple, X)): 'X', tuple(map(tuple, Y)): 'Y', tuple(map(tuple, Z)): 'Z'}\n",
    "\n",
    "# Function to compute the Hilbert-Schmidt norm\n",
    "def hilbert_schmidt_norm(matrix):\n",
    "    return np.sqrt(np.trace(matrix.conj().T @ matrix))\n",
    "\n",
    "# Generate all tensor products for a 3-qubit system\n",
    "results = []\n",
    "for combo in product(paulis, repeat=3):\n",
    "    label = ''.join(pauli_dict[tuple(map(tuple, m))] for m in combo)\n",
    "    tensor_product = np.kron(np.kron(combo[0], combo[1]), combo[2])\n",
    "    norm = hilbert_schmidt_norm(tensor_product)\n",
    "    results.append((label, norm))\n",
    "\n",
    "# Write results to a text file\n",
    "with open('output/hilbert_schmidt_norms.txt', 'w') as f:\n",
    "    for label, norm in results:\n",
    "        f.write(f\"{label}: {norm.real}\\n\")\n",
    "\n",
    "print(\"Hilbert-Schmidt norms have been written to hilbert_schmidt_norms.txt\")\n"
   ]
  },
  {
   "cell_type": "code",
   "execution_count": 5,
   "metadata": {},
   "outputs": [
    {
     "name": "stdout",
     "output_type": "stream",
     "text": [
      "Hilbert-Schmidt norms for lower locality observables have been written to lower_locality_hilbert_schmidt_norms.txt\n"
     ]
    }
   ],
   "source": [
    "import numpy as np\n",
    "from itertools import product\n",
    "\n",
    "# Define Pauli matrices and identity matrix\n",
    "I = np.eye(2)\n",
    "X = np.array([[0, 1], [1, 0]])\n",
    "Y = np.array([[0, -1j], [1j, 0]])\n",
    "Z = np.array([[1, 0], [0, -1]])\n",
    "\n",
    "# List of matrices and their labels\n",
    "paulis = [I, X, Y, Z]\n",
    "pauli_labels = ['I', 'X', 'Y', 'Z']\n",
    "pauli_dict = {tuple(map(tuple, I)): 'I', tuple(map(tuple, X)): 'X', tuple(map(tuple, Y)): 'Y', tuple(map(tuple, Z)): 'Z'}\n",
    "\n",
    "# Function to compute the Hilbert-Schmidt norm\n",
    "def hilbert_schmidt_norm(matrix):\n",
    "    return np.sqrt(np.trace(matrix.conj().T @ matrix))\n",
    "\n",
    "# Generate all tensor products for a 3-qubit system\n",
    "results = []\n",
    "for combo in product(paulis, repeat=3):\n",
    "    label = ''.join(pauli_dict[tuple(map(tuple, m))] for m in combo)\n",
    "    tensor_product = np.kron(np.kron(combo[0], combo[1]), combo[2])\n",
    "    norm = hilbert_schmidt_norm(tensor_product)\n",
    "    results.append((label, norm))\n",
    "\n",
    "# Filter results for lower locality (more identity matrices)\n",
    "lower_locality_results = [result for result in results if result[0].count('I') >= 1]\n",
    "\n",
    "# Write results to a text file\n",
    "with open('output/lower_locality_hilbert_schmidt_norms.txt', 'w') as f:\n",
    "    for label, norm in lower_locality_results:\n",
    "        f.write(f\"{label}: {norm.real}\\n\")\n",
    "\n",
    "print(\"Hilbert-Schmidt norms for lower locality observables have been written to lower_locality_hilbert_schmidt_norms.txt\")\n"
   ]
  }
 ],
 "metadata": {
  "kernelspec": {
   "display_name": ".venv",
   "language": "python",
   "name": "python3"
  },
  "language_info": {
   "codemirror_mode": {
    "name": "ipython",
    "version": 3
   },
   "file_extension": ".py",
   "mimetype": "text/x-python",
   "name": "python",
   "nbconvert_exporter": "python",
   "pygments_lexer": "ipython3",
   "version": "3.11.9"
  }
 },
 "nbformat": 4,
 "nbformat_minor": 2
}

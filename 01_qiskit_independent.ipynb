{
 "cells": [
  {
   "cell_type": "code",
   "execution_count": 1,
   "metadata": {},
   "outputs": [],
   "source": [
    "import numpy as np\n",
    "from qiskit.quantum_info import random_clifford, Pauli"
   ]
  },
  {
   "cell_type": "code",
   "execution_count": 103,
   "metadata": {},
   "outputs": [],
   "source": [
    "def tensor_prod(*tensors):\n",
    "    if len(tensors) == 2:\n",
    "        return np.kron(tensors[0], tensors[1])\n",
    "    else:\n",
    "        return np.kron(tensors[0], tensor_prod(*tensors[1:]))\n",
    "    \n",
    "def hermitian(matrix):\n",
    "    return np.allclose(matrix, matrix.conj().T)\n",
    "\n",
    "def trace_one(matrix):\n",
    "    return np.isclose(np.trace(matrix), 1)\n",
    "\n",
    "def positive_semi_definite(matrix, tol=1e-8):\n",
    "    return np.all(np.linalg.eigvals(matrix) + tol >= 0)\n",
    "\n",
    "def is_legal(matrix):\n",
    "    return hermitian(matrix) and trace_one(matrix) and positive_semi_definite(matrix)\n",
    "\n",
    "def int_to_bin_list(n, length):\n",
    "    bin_list = np.zeros(length)\n",
    "    bin_list[n] = 1\n",
    "    return bin_list\n",
    "\n",
    "def single_sample(prob_list):\n",
    "    assert np.isclose(sum(prob_list), 1), \"probability does not sum up to 1\"\n",
    "    rd = np.random.random()\n",
    "    inf, sup = 0, 0\n",
    "    for i, e in enumerate(prob_list):\n",
    "        sup += e\n",
    "        if inf <= rd <= sup:\n",
    "            return i\n",
    "        else:\n",
    "            inf = sup\n",
    "    raise ValueError(\"random value does not meet any interval\")"
   ]
  },
  {
   "cell_type": "code",
   "execution_count": 104,
   "metadata": {},
   "outputs": [],
   "source": [
    "class QuantumState():\n",
    "    def __init__(self, num_qubits:int, num_shots:int, batch_size:int, pauli_observables:list, veri:bool):\n",
    "        self._num_qubits = num_qubits\n",
    "        self._observables = pauli_observables\n",
    "        self._batch_size = batch_size\n",
    "        self._num_shots = num_shots\n",
    "        self._veri = veri\n",
    "        self._dm = None\n",
    "        self._entangled = None\n",
    "        \n",
    "    @property\n",
    "    def dm(self):\n",
    "        return self._dm\n",
    "    \n",
    "    @dm.setter\n",
    "    def dm(self, new_dm):\n",
    "        if not (self._veri or is_legal(new_dm)):\n",
    "            raise ValueError(\"density matrix is not physical\")\n",
    "        else:\n",
    "            self._dm = new_dm\n",
    "    \n",
    "    def set_dm(self):\n",
    "        raise NotImplementedError(\"without information to construct density matrix\")\n",
    "    \n",
    "    def random_evolve(self):\n",
    "        self._U = random_clifford(self._num_qubits).to_matrix()\n",
    "        self._dm = self._U @ self.dm @ np.conj(self._U).T\n",
    "    \n",
    "    def single_shot_measure(self):\n",
    "        prob_list = [self._dm[i, i] for i in range(2 ** self._num_qubits)]\n",
    "        single_shot_state = int_to_bin_list(single_sample(prob_list), 2 ** self._num_qubits)\n",
    "        del self._dm\n",
    "        self._state = single_shot_state\n",
    "    \n",
    "    def reconstruct_dm(self):\n",
    "        dim = 2 ** self._num_qubits\n",
    "        return (dim + 1) * (np.conj(self._U).T @ np.outer(self._state, self._state) @ self._U) - np.eye(dim)\n",
    "\n",
    "    # def classical_shadow(self):\n",
    "    #     shadows = {obs: [] for obs in self._observables}\n",
    "    #     temp_shadows = {obs: [] for obs in self._observables}\n",
    "    #     dm_copy = self._dm\n",
    "    #     for _ in range(self._num_shots // self._batch_size):\n",
    "    #         for _ in range(self._batch_size):\n",
    "    #             self._dm = dm_copy\n",
    "    #             self.random_evolve()\n",
    "    #             self.single_shot_measure()\n",
    "    #             rdm = self.reconstruct_dm()\n",
    "    #             for k, v in temp_shadows.items():\n",
    "    #                 v.append(np.trace(Pauli(k).to_matrix() @ rdm))\n",
    "    #         for k, v in shadows.items():\n",
    "    #             v.append(np.mean(temp_shadows[k]))\n",
    "    #         temp_shadows = {obs: [] for obs in self._observables}\n",
    "    #     del temp_shadows\n",
    "    #     return {k: np.median(v) for k, v in shadows.items()}\n",
    "    \n",
    "    def classical_shadow(self):\n",
    "        shadows = {obs: [] for obs in self._observables}\n",
    "        dm_copy = self._dm\n",
    "        for _ in range(self._num_shots // self._batch_size):\n",
    "            snapshots = []\n",
    "            for _ in range(self._batch_size):\n",
    "                self._dm = dm_copy\n",
    "                self.random_evolve()\n",
    "                self.single_shot_measure()\n",
    "                snapshots.append(self.reconstruct_dm())\n",
    "            mean = np.mean(np.stack(snapshots), axis=0)\n",
    "            for k, v in shadows.items():\n",
    "                v.append(np.trace(Pauli(k).to_matrix() @ mean))\n",
    "        return {k: np.median(v) for k, v in shadows.items()}"
   ]
  },
  {
   "cell_type": "code",
   "execution_count": 105,
   "metadata": {},
   "outputs": [
    {
     "data": {
      "text/plain": [
       "{'XX': np.complex128(0j),\n",
       " 'YY': np.complex128(1.0408340855860843e-16+0j),\n",
       " 'ZZ': np.complex128(0.9999999999999998+0j)}"
      ]
     },
     "execution_count": 105,
     "metadata": {},
     "output_type": "execute_result"
    }
   ],
   "source": [
    "test_dm = np.array([[1, 0, 0, 0], [0, 0, 0, 0], [0, 0, 0, 0], [0, 0, 0, 0]]) # state 0\n",
    "test_qstate = QuantumState(2, 10000, 25, ['XX', 'YY', 'ZZ'], False)\n",
    "test_qstate.dm = test_dm\n",
    "test_qstate.classical_shadow()"
   ]
  }
 ],
 "metadata": {
  "kernelspec": {
   "display_name": "'QuantumCode'",
   "language": "python",
   "name": "python3"
  },
  "language_info": {
   "codemirror_mode": {
    "name": "ipython",
    "version": 3
   },
   "file_extension": ".py",
   "mimetype": "text/x-python",
   "name": "python",
   "nbconvert_exporter": "python",
   "pygments_lexer": "ipython3",
   "version": "3.11.9"
  }
 },
 "nbformat": 4,
 "nbformat_minor": 2
}

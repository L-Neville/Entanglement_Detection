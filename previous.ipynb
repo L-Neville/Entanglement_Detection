{
 "cells": [
  {
   "cell_type": "code",
   "execution_count": 2,
   "metadata": {},
   "outputs": [
    {
     "data": {
      "text/plain": [
       "'task 10000 / 10000 done'"
      ]
     },
     "metadata": {},
     "output_type": "display_data"
    },
    {
     "name": "stdout",
     "output_type": "stream",
     "text": [
      "\n",
      "Expectation values of Pauli observables:\n",
      "XX: 0j\n",
      "YY: 0j\n",
      "ZZ: (0.9999999999999994+0j)\n"
     ]
    }
   ],
   "source": [
    "import numpy as np\n",
    "from qiskit import QuantumCircuit, transpile, assemble\n",
    "from qiskit.quantum_info import random_clifford, Pauli, Statevector\n",
    "from qiskit_aer import AerSimulator, Aer\n",
    "from IPython.display import clear_output, display\n",
    "from time import sleep\n",
    "\n",
    "# Function to apply a random Clifford transformation\n",
    "def apply_random_clifford(qc, qubits):\n",
    "    clifford = random_clifford(len(qubits))\n",
    "    qc.append(clifford, qubits)\n",
    "    return clifford\n",
    "\n",
    "# Function to measure in the computational basis\n",
    "def measure_computational(qc, qubits):\n",
    "    qc.measure(range(qubits), range(qubits))\n",
    "\n",
    "# Function to reconstruct the density matrix from classical shadows\n",
    "def reconstruct_density_matrix(shadow, clifford, num_qubits):\n",
    "    dim = 2 ** num_qubits\n",
    "    U_inv = clifford.to_matrix().conj().T\n",
    "    rho = (dim + 1) * (U_inv @ np.outer(shadow, shadow) @ U_inv.conj().T) - np.eye(dim)\n",
    "    return rho\n",
    "\n",
    "# Main simulation\n",
    "num_qubits = 2\n",
    "num_shadows = 10000\n",
    "expectations, temp_expectations = {}, {}\n",
    "pauli_observables = ['XX', 'YY', 'ZZ'] # List of observables\n",
    "for obs in pauli_observables:\n",
    "    expectations[obs] = []\n",
    "    temp_expectations[obs] = []\n",
    "\n",
    "# Initialize quantum circuit\n",
    "def prepare_qc(n):\n",
    "    return QuantumCircuit(n, n)\n",
    "\n",
    "# Apply random Clifford transformations and measure\n",
    "simulator = Aer.get_backend('qasm_simulator')\n",
    "for i in range(num_shadows):\n",
    "    qc = prepare_qc(num_qubits)\n",
    "    clifford = apply_random_clifford(qc, range(num_qubits)) # Apply Clifford gates\n",
    "    measure_computational(qc, num_qubits) # Measure in computational basis\n",
    "    compiled_circuit = transpile(qc, simulator)\n",
    "    qobj = assemble(compiled_circuit, shots=1) # One shot for each Clifford gate\n",
    "    result = simulator.run(compiled_circuit, shots=1).result()\n",
    "    counts = result.get_counts()\n",
    "    vector = np.zeros(2**num_qubits) \n",
    "    index = int(counts.popitem()[0], 2) # Access the measured result and convert to vector\n",
    "    vector[index] = 1\n",
    "    rho = reconstruct_density_matrix(vector, clifford, num_qubits)\n",
    "    for obs in pauli_observables:\n",
    "        temp_expectations[obs].append(np.trace(rho @ Pauli(obs).to_matrix()))\n",
    "        if i > 0 and i % 25 == 0: # Apply median-of-means post-processing\n",
    "            expectations[obs].append(np.mean(temp_expectations[obs]))\n",
    "            temp_expectations[obs] = []\n",
    "    clear_output()\n",
    "    display(f'task {i+1} / {num_shadows} done')\n",
    "\n",
    "# Print results\n",
    "print(\"\\nExpectation values of Pauli observables:\")\n",
    "for pauli, expectation in expectations.items():\n",
    "    print(f\"{pauli}: {np.median(expectation)}\")"
   ]
  }
 ],
 "metadata": {
  "kernelspec": {
   "display_name": "qiskit",
   "language": "python",
   "name": "python3"
  },
  "language_info": {
   "codemirror_mode": {
    "name": "ipython",
    "version": 3
   },
   "file_extension": ".py",
   "mimetype": "text/x-python",
   "name": "python",
   "nbconvert_exporter": "python",
   "pygments_lexer": "ipython3",
   "version": "3.11.9"
  }
 },
 "nbformat": 4,
 "nbformat_minor": 2
}

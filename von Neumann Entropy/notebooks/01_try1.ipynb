{
 "cells": [
  {
   "cell_type": "code",
   "execution_count": 1,
   "metadata": {},
   "outputs": [],
   "source": [
    "from qiskit import QuantumCircuit, transpile, assemble\n",
    "from qiskit.quantum_info import Statevector, DensityMatrix, Pauli, Operator, random_statevector\n",
    "from qiskit_aer import AerSimulator, Aer\n",
    "import numpy as np\n",
    "from scipy.linalg import sqrtm"
   ]
  },
  {
   "cell_type": "code",
   "execution_count": 2,
   "metadata": {},
   "outputs": [],
   "source": [
    "def tensor_prod(*tensors):\n",
    "    if len(tensors) == 2:\n",
    "        return np.kron(tensors[0], tensors[1])\n",
    "    else:\n",
    "        return np.kron(tensors[0], tensor_prod(*tensors[1:]))\n",
    "    \n",
    "def hermitian(matrix):\n",
    "    return np.allclose(matrix, matrix.conj().T)\n",
    "\n",
    "def trace_one(matrix):\n",
    "    return np.isclose(np.trace(matrix), 1)\n",
    "\n",
    "def positive_semi_definite(matrix, tol=1e-8):\n",
    "    return np.all(np.linalg.eigvals(matrix) + tol >= 0)\n",
    "\n",
    "def is_legal(matrix):\n",
    "    return hermitian(matrix) and trace_one(matrix) and positive_semi_definite(matrix)"
   ]
  },
  {
   "cell_type": "code",
   "execution_count": 3,
   "metadata": {},
   "outputs": [],
   "source": [
    "def generate_prob_lst(num_states):\n",
    "    prob_lst = np.array([np.random.random() for _ in range(num_states)])\n",
    "    prob_lst /= np.sum(prob_lst)\n",
    "    return prob_lst\n",
    "\n",
    "def get_rank(dm, tol=1e-10):\n",
    "    return int(np.sum(np.linalg.eigvalsh(dm) > tol))\n",
    "\n",
    "def get_fidelity(dm1, dm2, tol=1e-5):\n",
    "    # assert is_legal(dm1) and is_legal(dm2), 'inputs are not legal density matrices'\n",
    "    if not is_legal(dm1) and is_legal(dm2):\n",
    "        print(\"Warning: inputs are not legal density matrices\")\n",
    "    fidelity = (np.trace(sqrtm(sqrtm(dm1) @ dm2 @ sqrtm(dm1)))) ** 2\n",
    "    assert np.abs(np.imag(fidelity)) < tol, 'fidelity is not real within tol'\n",
    "    return fidelity.real\n",
    "\n",
    "def generate_dm(num_qubits, num_states, state_lst=None, prob_lst=None):\n",
    "    if state_lst is None:\n",
    "        state_lst = [random_statevector(2**num_qubits) for _ in range(num_states)]\n",
    "    if prob_lst is None:\n",
    "        prob_lst = generate_prob_lst(num_states)\n",
    "    density_matrix = sum([DensityMatrix(state_lst[i]).data * prob_lst[i] for i in range(num_states)])\n",
    "    return density_matrix\n",
    "\n",
    "def generate_IXYZ_strings(num_strings, length):\n",
    "    characters = ['I', 'X', 'Y', 'Z']\n",
    "    generated_strings = []\n",
    "    assert num_strings < 4 ** length, 'too much strings to generate'\n",
    "    for _ in range(num_strings):\n",
    "        while True:\n",
    "            random_string = ''.join(np.random.choice(characters) for _ in range(length))\n",
    "            if random_string != 'I' * length and random_string not in generated_strings:\n",
    "                generated_strings.append(random_string)\n",
    "                break\n",
    "    return generated_strings\n",
    "\n",
    "def generate_Pauli_expectations(dm, obsv):\n",
    "    return np.trace(dm @ Pauli(obsv).to_matrix()).real\n",
    "\n",
    "def get_trace_norm(dm):\n",
    "    return np.sum(np.linalg.svd(dm, compute_uv=False))"
   ]
  },
  {
   "cell_type": "code",
   "execution_count": 4,
   "metadata": {},
   "outputs": [],
   "source": [
    "# Prepare a state for measurement\n",
    "state = generate_dm(6, 2, prob_lst=np.array([.99, .01]))\n",
    "r = get_rank(state)\n",
    "d = 2 ** 6"
   ]
  },
  {
   "cell_type": "code",
   "execution_count": 6,
   "metadata": {},
   "outputs": [],
   "source": [
    "# Prepare observables\n",
    "c = 1\n",
    "num_measurements = int(c * r * d * (np.log(d)) ** 2)\n",
    "observables = generate_IXYZ_strings(num_measurements, 6)\n",
    "expectations = [generate_Pauli_expectations(state, obsv) for obsv in observables]"
   ]
  },
  {
   "cell_type": "code",
   "execution_count": 26,
   "metadata": {},
   "outputs": [
    {
     "name": "stdout",
     "output_type": "stream",
     "text": [
      "Collecting cvxpy\n",
      "  Downloading cvxpy-1.6.0-cp311-cp311-win_amd64.whl.metadata (9.4 kB)\n",
      "Collecting osqp>=0.6.2 (from cvxpy)\n",
      "  Downloading osqp-0.6.7.post3-cp311-cp311-win_amd64.whl.metadata (2.0 kB)\n",
      "Collecting clarabel>=0.5.0 (from cvxpy)\n",
      "  Downloading clarabel-0.9.0-cp37-abi3-win_amd64.whl.metadata (4.8 kB)\n",
      "Collecting scs>=3.2.4.post1 (from cvxpy)\n",
      "  Downloading scs-3.2.7-cp311-cp311-win_amd64.whl.metadata (2.1 kB)\n",
      "Requirement already satisfied: numpy>=1.20 in c:\\users\\neville\\documents\\quantum computing 3\\entanglement detection\\.venv\\lib\\site-packages (from cvxpy) (2.1.1)\n",
      "Requirement already satisfied: scipy>=1.1.0 in c:\\users\\neville\\documents\\quantum computing 3\\entanglement detection\\.venv\\lib\\site-packages (from cvxpy) (1.14.1)\n",
      "Collecting qdldl (from osqp>=0.6.2->cvxpy)\n",
      "  Downloading qdldl-0.1.7.post4-cp311-cp311-win_amd64.whl.metadata (1.8 kB)\n",
      "Downloading cvxpy-1.6.0-cp311-cp311-win_amd64.whl (1.1 MB)\n",
      "   ---------------------------------------- 0.0/1.1 MB ? eta -:--:--\n",
      "   ---------------------------------------- 0.0/1.1 MB ? eta -:--:--\n",
      "   ---------------------------------------- 0.0/1.1 MB ? eta -:--:--\n",
      "   ---------------------------------------- 0.0/1.1 MB ? eta -:--:--\n",
      "   ---------------------------------------- 0.0/1.1 MB ? eta -:--:--\n",
      "   ---------------------------------------- 0.0/1.1 MB ? eta -:--:--\n",
      "   ---------------------------------------- 0.0/1.1 MB ? eta -:--:--\n",
      "   ---------------------------------------- 0.0/1.1 MB ? eta -:--:--\n",
      "   ---------------------------------------- 0.0/1.1 MB ? eta -:--:--\n",
      "   ---------------------------------------- 0.0/1.1 MB ? eta -:--:--\n",
      "   ---------------------------------------- 0.0/1.1 MB ? eta -:--:--\n",
      "   ---------------------------------------- 0.0/1.1 MB ? eta -:--:--\n",
      "   ---------------------------------------- 0.0/1.1 MB ? eta -:--:--\n",
      "   --------- ------------------------------ 0.3/1.1 MB ? eta -:--:--\n",
      "   --------- ------------------------------ 0.3/1.1 MB ? eta -:--:--\n",
      "   --------- ------------------------------ 0.3/1.1 MB ? eta -:--:--\n",
      "   --------- ------------------------------ 0.3/1.1 MB ? eta -:--:--\n",
      "   ------------------- -------------------- 0.5/1.1 MB 299.6 kB/s eta 0:00:02\n",
      "   ------------------- -------------------- 0.5/1.1 MB 299.6 kB/s eta 0:00:02\n",
      "   ------------------- -------------------- 0.5/1.1 MB 299.6 kB/s eta 0:00:02\n",
      "   ----------------------------- ---------- 0.8/1.1 MB 342.4 kB/s eta 0:00:01\n",
      "   ----------------------------- ---------- 0.8/1.1 MB 342.4 kB/s eta 0:00:01\n",
      "   ----------------------------- ---------- 0.8/1.1 MB 342.4 kB/s eta 0:00:01\n",
      "   -------------------------------------- - 1.0/1.1 MB 372.9 kB/s eta 0:00:01\n",
      "   ---------------------------------------- 1.1/1.1 MB 375.5 kB/s eta 0:00:00\n",
      "Downloading clarabel-0.9.0-cp37-abi3-win_amd64.whl (736 kB)\n",
      "   ---------------------------------------- 0.0/736.4 kB ? eta -:--:--\n",
      "   ---------------------------------------- 0.0/736.4 kB ? eta -:--:--\n",
      "   ---------------------------------------- 0.0/736.4 kB ? eta -:--:--\n",
      "   -------------- ------------------------- 262.1/736.4 kB ? eta -:--:--\n",
      "   --------------------------- ---------- 524.3/736.4 kB 932.9 kB/s eta 0:00:01\n",
      "   -------------------------------------- 736.4/736.4 kB 919.2 kB/s eta 0:00:00\n",
      "Downloading osqp-0.6.7.post3-cp311-cp311-win_amd64.whl (293 kB)\n",
      "Downloading scs-3.2.7-cp311-cp311-win_amd64.whl (8.4 MB)\n",
      "   ---------------------------------------- 0.0/8.4 MB ? eta -:--:--\n",
      "   ---------------------------------------- 0.0/8.4 MB ? eta -:--:--\n",
      "   - -------------------------------------- 0.3/8.4 MB ? eta -:--:--\n",
      "   ---- ----------------------------------- 1.0/8.4 MB 2.4 MB/s eta 0:00:04\n",
      "   ------- -------------------------------- 1.6/8.4 MB 2.2 MB/s eta 0:00:04\n",
      "   ------------ --------------------------- 2.6/8.4 MB 3.0 MB/s eta 0:00:02\n",
      "   -------------- ------------------------- 3.1/8.4 MB 2.9 MB/s eta 0:00:02\n",
      "   ------------------- -------------------- 4.2/8.4 MB 3.2 MB/s eta 0:00:02\n",
      "   --------------------- ------------------ 4.5/8.4 MB 3.1 MB/s eta 0:00:02\n",
      "   ----------------------------- ---------- 6.3/8.4 MB 3.7 MB/s eta 0:00:01\n",
      "   -------------------------------------- - 8.1/8.4 MB 4.3 MB/s eta 0:00:01\n",
      "   ---------------------------------------- 8.4/8.4 MB 4.3 MB/s eta 0:00:00\n",
      "Downloading qdldl-0.1.7.post4-cp311-cp311-win_amd64.whl (87 kB)\n",
      "Installing collected packages: scs, qdldl, clarabel, osqp, cvxpy\n",
      "Successfully installed clarabel-0.9.0 cvxpy-1.6.0 osqp-0.6.7.post3 qdldl-0.1.7.post4 scs-3.2.7\n"
     ]
    },
    {
     "name": "stderr",
     "output_type": "stream",
     "text": [
      "\n",
      "[notice] A new release of pip is available: 24.2 -> 24.3.1\n",
      "[notice] To update, run: python.exe -m pip install --upgrade pip\n"
     ]
    }
   ],
   "source": [
    "!pip install cvxpy"
   ]
  },
  {
   "cell_type": "code",
   "execution_count": null,
   "metadata": {},
   "outputs": [],
   "source": [
    "import cvxpy as cp"
   ]
  },
  {
   "cell_type": "code",
   "execution_count": 8,
   "metadata": {},
   "outputs": [
    {
     "name": "stdout",
     "output_type": "stream",
     "text": [
      "optimal\n",
      "Warning: inputs are not legal density matrices\n",
      "fidelity between outcome and target is 0.9998086228465333\n"
     ]
    }
   ],
   "source": [
    "def optimize(dim, obsv, expct, tol=1e-5):\n",
    "    sigma = cp.Variable((dim, dim), complex=True)\n",
    "    objective = cp.Minimize(cp.abs(cp.norm(sigma, 'nuc')))\n",
    "    constraints = [cp.real(cp.trace(sigma)) == 1]\n",
    "    for o, e in zip(obsv, expct):\n",
    "        constraints.append(cp.abs(cp.trace(sigma @ Pauli(o).to_matrix()) - e) <= tol)\n",
    "    problem = cp.Problem(objective, constraints)\n",
    "    problem.solve()\n",
    "    print(problem.status)\n",
    "    return sigma.value\n",
    "    \n",
    "    \n",
    "sigma = optimize(d, observables, expectations)\n",
    "print(f'fidelity between outcome and target is {get_fidelity(sigma, state)}')"
   ]
  },
  {
   "cell_type": "code",
   "execution_count": 120,
   "metadata": {},
   "outputs": [
    {
     "name": "stderr",
     "output_type": "stream",
     "text": [
      "C:\\Users\\Neville\\AppData\\Local\\Temp\\ipykernel_32488\\192410361.py:49: RuntimeWarning: Method L-BFGS-B cannot handle constraints.\n",
      "  result = minimize(objective, sigma_init_flat, constraints=constraints, method='L-BFGS-B')\n"
     ]
    },
    {
     "name": "stdout",
     "output_type": "stream",
     "text": [
      "STOP: TOTAL NO. of f AND g EVALUATIONS EXCEEDS LIMIT\n",
      "Warning: inputs are not legal density matrices\n",
      "fidelity between outcome and target is -6.771155662508395e-05\n"
     ]
    }
   ],
   "source": [
    "import numpy as np\n",
    "from scipy.optimize import minimize\n",
    "from scipy.linalg import eigh\n",
    "import winsound\n",
    "\n",
    "def optimize(dim, obsv, expct, tol=1e-3):\n",
    "    # Initial guess for sigma (identity matrix scaled to satisfy the trace constraint)\n",
    "    sigma_init = np.eye(dim) / dim\n",
    "\n",
    "    # Objective function: minimize the nuclear norm of sigma\n",
    "    def objective(sigma_flat):\n",
    "        sigma = sigma_flat.reshape((dim, dim))\n",
    "        # Compute the singular values (eigenvalues for symmetric matrices)\n",
    "        _, s, _ = np.linalg.svd(sigma)\n",
    "        return np.sum(s)\n",
    "\n",
    "    # Constraint: trace(sigma) == 1\n",
    "    def trace_constraint(sigma_flat):\n",
    "        sigma = sigma_flat.reshape((dim, dim))\n",
    "        return np.trace(sigma) - 1\n",
    "\n",
    "    # Constraints: |trace(sigma @ Pauli(o)) - e| <= tol\n",
    "    def pauli_constraints(sigma_flat):\n",
    "        sigma = sigma_flat.reshape((dim, dim))\n",
    "        constraints = []\n",
    "        for o, e in zip(obsv, expct):\n",
    "            pauli_matrix = Pauli(o).to_matrix()\n",
    "            trace_value = np.trace(sigma @ pauli_matrix).real\n",
    "            constraints.append(trace_value - e - tol)\n",
    "            constraints.append(-trace_value + e - tol)\n",
    "        return constraints\n",
    "\n",
    "    # Combine all constraints\n",
    "    constraints = [{'type': 'eq', 'fun': trace_constraint}]\n",
    "    for i in range(len(obsv)):\n",
    "        constraints.append({\n",
    "            'type': 'ineq',\n",
    "            'fun': lambda sigma_flat, i=i: pauli_constraints(sigma_flat)[2*i]\n",
    "        })\n",
    "        constraints.append({\n",
    "            'type': 'ineq',\n",
    "            'fun': lambda sigma_flat, i=i: pauli_constraints(sigma_flat)[2*i + 1]\n",
    "        })\n",
    "\n",
    "    # Flatten the initial sigma for the optimizer\n",
    "    sigma_init_flat = sigma_init.flatten()\n",
    "\n",
    "    # Solve the optimization problem\n",
    "    result = minimize(objective, sigma_init_flat, constraints=constraints, method='L-BFGS-B')\n",
    "\n",
    "    # Reshape the result back to a matrix\n",
    "    sigma_opt = result.x.reshape((dim, dim))\n",
    "\n",
    "    print(result.message)\n",
    "    return sigma_opt\n",
    "\n",
    "# Example usage\n",
    "sigma = optimize(d, observables, expectations)\n",
    "print(f'fidelity between outcome and target is {get_fidelity(sigma, state)}')\n",
    "\n",
    "winsound.Beep(1000, 3000)\n"
   ]
  },
  {
   "cell_type": "code",
   "execution_count": 122,
   "metadata": {},
   "outputs": [
    {
     "data": {
      "text/plain": [
       "np.float64(-0.005404068551829289)"
      ]
     },
     "execution_count": 122,
     "metadata": {},
     "output_type": "execute_result"
    }
   ],
   "source": [
    "np.trace(sigma)"
   ]
  },
  {
   "cell_type": "code",
   "execution_count": 113,
   "metadata": {},
   "outputs": [
    {
     "ename": "NameError",
     "evalue": "name 'sigma_opt' is not defined",
     "output_type": "error",
     "traceback": [
      "\u001b[1;31m---------------------------------------------------------------------------\u001b[0m",
      "\u001b[1;31mNameError\u001b[0m                                 Traceback (most recent call last)",
      "Cell \u001b[1;32mIn[113], line 1\u001b[0m\n\u001b[1;32m----> 1\u001b[0m \u001b[38;5;28mprint\u001b[39m(\u001b[43msigma_opt\u001b[49m)\n",
      "\u001b[1;31mNameError\u001b[0m: name 'sigma_opt' is not defined"
     ]
    }
   ],
   "source": [
    "print(sigma_opt)"
   ]
  },
  {
   "cell_type": "code",
   "execution_count": 92,
   "metadata": {},
   "outputs": [
    {
     "data": {
      "text/plain": [
       "np.True_"
      ]
     },
     "execution_count": 92,
     "metadata": {},
     "output_type": "execute_result"
    }
   ],
   "source": [
    "np.real(np.trace(state)) == 1"
   ]
  },
  {
   "cell_type": "code",
   "execution_count": 80,
   "metadata": {},
   "outputs": [
    {
     "data": {
      "text/plain": [
       "np.True_"
      ]
     },
     "execution_count": 80,
     "metadata": {},
     "output_type": "execute_result"
    }
   ],
   "source": [
    "np.all(\n",
    "    np.array(\n",
    "        [np.abs(np.real(np.trace(state @ Pauli(o).to_matrix())) - e) <= 1e-3 for o, e in zip(observables, expectations)]\n",
    "    )\n",
    ")"
   ]
  }
 ],
 "metadata": {
  "kernelspec": {
   "display_name": ".venv",
   "language": "python",
   "name": "python3"
  },
  "language_info": {
   "codemirror_mode": {
    "name": "ipython",
    "version": 3
   },
   "file_extension": ".py",
   "mimetype": "text/x-python",
   "name": "python",
   "nbconvert_exporter": "python",
   "pygments_lexer": "ipython3",
   "version": "3.11.9"
  }
 },
 "nbformat": 4,
 "nbformat_minor": 2
}

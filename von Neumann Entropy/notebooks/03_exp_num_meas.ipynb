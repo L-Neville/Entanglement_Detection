{
 "cells": [
  {
   "cell_type": "code",
   "execution_count": 1,
   "metadata": {},
   "outputs": [],
   "source": [
    "from qiskit import QuantumCircuit, transpile, assemble\n",
    "from qiskit.quantum_info import Statevector, DensityMatrix, Pauli, Operator, random_statevector\n",
    "from qiskit_aer import AerSimulator, Aer\n",
    "import numpy as np\n",
    "from scipy.linalg import sqrtm\n",
    "import cvxpy as cp\n",
    "from IPython.display import clear_output\n",
    "from winsound import Beep\n",
    "\n",
    "def tensor_prod(*tensors):\n",
    "    if len(tensors) == 2:\n",
    "        return np.kron(tensors[0], tensors[1])\n",
    "    else:\n",
    "        return np.kron(tensors[0], tensor_prod(*tensors[1:]))\n",
    "    \n",
    "def hermitian(matrix):\n",
    "    return np.allclose(matrix, matrix.conj().T)\n",
    "\n",
    "def trace_one(matrix):\n",
    "    return np.isclose(np.trace(matrix), 1)\n",
    "\n",
    "def positive_semi_definite(matrix, tol=1e-8):\n",
    "    return np.all(np.linalg.eigvals(matrix) + tol >= 0)\n",
    "\n",
    "def is_legal(matrix):\n",
    "    return hermitian(matrix) and trace_one(matrix) and positive_semi_definite(matrix)\n",
    "\n",
    "def check_legal(matrix, print_errors=True):\n",
    "    errors, legal = [], True\n",
    "    if not hermitian(matrix):\n",
    "        errors.append('not hermitian')\n",
    "    if not trace_one(matrix):\n",
    "        errors.append('trace not equal to one')\n",
    "    if not positive_semi_definite(matrix):\n",
    "        errors.append('not positive semidefinite')\n",
    "    if len(errors) > 0:\n",
    "        legal = False\n",
    "    if print_errors:\n",
    "        if not legal:\n",
    "            print(f'input is not legal: ' + '; '.join(errors))\n",
    "        else: \n",
    "            print('input is a legal density matrix')\n",
    "    return legal\n",
    "        \n",
    "        \n",
    "def generate_prob_lst(num_states):\n",
    "    prob_lst = np.array([np.random.random() for _ in range(num_states)])\n",
    "    prob_lst /= np.sum(prob_lst)\n",
    "    return prob_lst\n",
    "\n",
    "def get_rank(dm, tol=1e-10):\n",
    "    return int(np.sum(np.linalg.eigvalsh(dm) > tol))\n",
    "\n",
    "def get_fidelity(dm1, dm2, tol=1e-5):\n",
    "    # assert is_legal(dm1) and is_legal(dm2), 'inputs are not legal density matrices'\n",
    "    if not is_legal(dm1) and is_legal(dm2):\n",
    "        print(\"Warning: inputs are not legal density matrices\")\n",
    "    try: \n",
    "        fidelity = (np.trace(sqrtm(sqrtm(dm1) @ dm2 @ sqrtm(dm1)))) ** 2\n",
    "    except ValueError:\n",
    "        print('fidelity cannot be computed for given inputs')\n",
    "    assert np.abs(np.imag(fidelity)) < tol, 'fidelity is not real within tol'\n",
    "    return fidelity.real\n",
    "\n",
    "def generate_dm(num_qubits, num_states, state_lst=None, prob_lst=None):\n",
    "    if state_lst is None:\n",
    "        state_lst = [random_statevector(2**num_qubits) for _ in range(num_states)]\n",
    "    if prob_lst is None:\n",
    "        prob_lst = generate_prob_lst(num_states)\n",
    "    density_matrix = sum([DensityMatrix(state_lst[i]).data * prob_lst[i] for i in range(num_states)])\n",
    "    return density_matrix\n",
    "\n",
    "def generate_Pauli_strings(num_strings, length, contain_I=True):\n",
    "    if contain_I:\n",
    "        characters = ['I', 'X', 'Y', 'Z']\n",
    "    else:\n",
    "        characters = ['X', 'Y', 'Z']\n",
    "    generated_strings = []\n",
    "    assert num_strings < len(characters) ** length, 'too much strings to generate'\n",
    "    for _ in range(num_strings):\n",
    "        while True:\n",
    "            random_string = ''.join(np.random.choice(characters) for _ in range(length))\n",
    "            if random_string != 'I' * length and random_string not in generated_strings:\n",
    "                generated_strings.append(random_string)\n",
    "                break\n",
    "    return generated_strings\n",
    "\n",
    "def generate_Pauli_expectations(dm, obsv):\n",
    "    return np.trace(dm @ Pauli(obsv).to_matrix()).real\n",
    "\n",
    "def get_trace_norm(dm):\n",
    "    return np.sum(np.linalg.svd(dm, compute_uv=False))"
   ]
  },
  {
   "cell_type": "code",
   "execution_count": 4,
   "metadata": {},
   "outputs": [],
   "source": [
    "# Prepare a state for measurement\n",
    "state = generate_dm(6, 2, prob_lst=np.array([.99, .01]))\n",
    "r = get_rank(state)\n",
    "d = 2 ** 6\n",
    "\n",
    "# Prepare observables\n",
    "c = 1\n",
    "num_measurements = int(c * r * d * (np.log(d)) ** 2)\n",
    "observables = generate_Pauli_strings(num_measurements, 6, contain_I=True)\n",
    "expectations = [generate_Pauli_expectations(state, obsv) for obsv in observables]"
   ]
  },
  {
   "cell_type": "code",
   "execution_count": 5,
   "metadata": {},
   "outputs": [
    {
     "name": "stdout",
     "output_type": "stream",
     "text": [
      "optimal\n",
      "Warning: inputs are not legal density matrices\n",
      "fidelity between outcome and target is 0.9997987499940038\n"
     ]
    }
   ],
   "source": [
    "def optimize(dim, obsv, expct, tol=1e-5):\n",
    "    sigma = cp.Variable((dim, dim), complex=True)\n",
    "    objective = cp.Minimize(cp.abs(cp.norm(sigma, 'nuc')))\n",
    "    constraints = [cp.real(cp.trace(sigma)) == 1]\n",
    "    for o, e in zip(obsv, expct):\n",
    "        constraints.append(cp.abs(cp.trace(sigma @ Pauli(o).to_matrix()) - e) <= tol)\n",
    "    problem = cp.Problem(objective, constraints)\n",
    "    problem.solve()\n",
    "    print(problem.status)\n",
    "    return sigma.value\n",
    "    \n",
    "    \n",
    "sigma = optimize(d, observables, expectations)\n",
    "print(f'fidelity between outcome and target is {get_fidelity(sigma, state)}')\n",
    "Beep(1000, 2000)"
   ]
  },
  {
   "cell_type": "markdown",
   "metadata": {},
   "source": [
    "In the case of\n",
    "`state = generate_dm(6, 2, prob_lst=np.array([.99, .01]))`:\n",
    "\n",
    "c = 1\n",
    "tol = 1e-5"
   ]
  },
  {
   "cell_type": "code",
   "execution_count": 2,
   "metadata": {},
   "outputs": [],
   "source": [
    "# Prepare a state for measurement\n",
    "state = generate_dm(7, 5, prob_lst=np.array([.96, .01, .01, .01, .01]))\n",
    "r = np.sum(np.linalg.eigvals(state) > 2e-2)\n",
    "# print(r)\n",
    "d = 2 ** 7\n",
    "\n",
    "# Prepare observables\n",
    "c = .7\n",
    "num_measurements = int(c * r * d * (np.log(d)) ** 2)\n",
    "observables = generate_Pauli_strings(num_measurements, 7, contain_I=True)\n",
    "expectations = [generate_Pauli_expectations(state, obsv) for obsv in observables]\n",
    "# Beep(1000, 2000)"
   ]
  },
  {
   "cell_type": "code",
   "execution_count": 7,
   "metadata": {},
   "outputs": [
    {
     "name": "stdout",
     "output_type": "stream",
     "text": [
      "optimal\n",
      "Warning: inputs are not legal density matrices\n",
      "fidelity between outcome and target is 0.9996405894552405\n"
     ]
    }
   ],
   "source": [
    "def optimize(dim, obsv, expct, tol=1e-5):\n",
    "    sigma = cp.Variable((dim, dim), complex=True)\n",
    "    objective = cp.Minimize(cp.abs(cp.norm(sigma, 'nuc')))\n",
    "    constraints = [cp.real(cp.trace(sigma)) == 1]\n",
    "    for o, e in zip(obsv, expct):\n",
    "        constraints.append(cp.abs(cp.trace(sigma @ Pauli(o).to_matrix()) - e) <= tol)\n",
    "    problem = cp.Problem(objective, constraints)\n",
    "    problem.solve()\n",
    "    print(problem.status)\n",
    "    return sigma.value\n",
    "    \n",
    "    \n",
    "sigma = optimize(d, observables, expectations)\n",
    "print(f'fidelity between outcome and target is {get_fidelity(sigma, state)}')\n",
    "Beep(1000, 2000)"
   ]
  },
  {
   "cell_type": "markdown",
   "metadata": {},
   "source": [
    "it seems `c=1` doesn't depend on number of qubits"
   ]
  },
  {
   "cell_type": "code",
   "execution_count": null,
   "metadata": {},
   "outputs": [],
   "source": [
    "def optimize(dim, obsv, expct, tol=1e-5):\n",
    "    sigma = cp.Variable((dim, dim), complex=True)\n",
    "    objective = cp.Minimize(cp.abs(cp.norm(sigma, 'nuc')))\n",
    "    constraints = [cp.real(cp.trace(sigma)) == 1]\n",
    "    for o, e in zip(obsv, expct):\n",
    "        constraints.append(cp.abs(cp.trace(sigma @ Pauli(o).to_matrix()) - e) <= tol)\n",
    "    problem = cp.Problem(objective, constraints)\n",
    "    problem.solve()\n",
    "    print(problem.status)\n",
    "    return sigma.value\n",
    "    \n",
    "    \n",
    "sigma = optimize(d, observables, expectations)\n",
    "print(f'fidelity between outcome and target is {get_fidelity(sigma, state)}')\n",
    "Beep(1000, 2000)"
   ]
  },
  {
   "cell_type": "code",
   "execution_count": 3,
   "metadata": {},
   "outputs": [
    {
     "name": "stdout",
     "output_type": "stream",
     "text": [
      "Requirement already satisfied: ecos in c:\\users\\neville\\documents\\quantum computing 3\\entanglement detection\\.venv\\lib\\site-packages (2.0.14)"
     ]
    },
    {
     "name": "stderr",
     "output_type": "stream",
     "text": [
      "\n",
      "[notice] A new release of pip is available: 24.2 -> 24.3.1\n",
      "[notice] To update, run: python.exe -m pip install --upgrade pip\n"
     ]
    },
    {
     "name": "stdout",
     "output_type": "stream",
     "text": [
      "\n",
      "Requirement already satisfied: numpy>=1.6 in c:\\users\\neville\\documents\\quantum computing 3\\entanglement detection\\.venv\\lib\\site-packages (from ecos) (2.1.1)\n",
      "Requirement already satisfied: scipy>=0.9 in c:\\users\\neville\\documents\\quantum computing 3\\entanglement detection\\.venv\\lib\\site-packages (from ecos) (1.14.1)\n"
     ]
    }
   ],
   "source": [
    "!pip install ecos"
   ]
  },
  {
   "cell_type": "code",
   "execution_count": 8,
   "metadata": {},
   "outputs": [
    {
     "name": "stdout",
     "output_type": "stream",
     "text": [
      "Collecting mosek\n",
      "  Downloading Mosek-10.2.11-cp37-abi3-win_amd64.whl.metadata (715 bytes)\n",
      "Requirement already satisfied: numpy in c:\\users\\neville\\documents\\quantum computing 3\\entanglement detection\\.venv\\lib\\site-packages (from mosek) (2.1.1)\n",
      "Downloading Mosek-10.2.11-cp37-abi3-win_amd64.whl (20.0 MB)\n",
      "   ---------------------------------------- 0.0/20.0 MB ? eta -:--:--\n",
      "   ---------------------------------------- 0.0/20.0 MB ? eta -:--:--\n",
      "   ---------------------------------------- 0.0/20.0 MB ? eta -:--:--\n",
      "   - -------------------------------------- 0.8/20.0 MB 3.4 MB/s eta 0:00:06\n",
      "   ---- ----------------------------------- 2.1/20.0 MB 5.9 MB/s eta 0:00:04\n",
      "   ------------- -------------------------- 6.6/20.0 MB 10.3 MB/s eta 0:00:02\n",
      "   ------------------------ --------------- 12.1/20.0 MB 14.2 MB/s eta 0:00:01\n",
      "   ------------------------------------ --- 18.1/20.0 MB 17.0 MB/s eta 0:00:01\n",
      "   ---------------------------------------- 20.0/20.0 MB 16.7 MB/s eta 0:00:00\n",
      "Installing collected packages: mosek\n",
      "Successfully installed mosek-10.2.11\n"
     ]
    },
    {
     "name": "stderr",
     "output_type": "stream",
     "text": [
      "\n",
      "[notice] A new release of pip is available: 24.2 -> 24.3.1\n",
      "[notice] To update, run: python.exe -m pip install --upgrade pip\n"
     ]
    }
   ],
   "source": [
    "!pip install mosek"
   ]
  },
  {
   "cell_type": "code",
   "execution_count": 9,
   "metadata": {},
   "outputs": [
    {
     "name": "stdout",
     "output_type": "stream",
     "text": [
      "Collecting cvxopt\n",
      "  Downloading cvxopt-1.3.2-cp311-cp311-win_amd64.whl.metadata (1.4 kB)\n",
      "Downloading cvxopt-1.3.2-cp311-cp311-win_amd64.whl (12.8 MB)\n",
      "   ---------------------------------------- 0.0/12.8 MB ? eta -:--:--\n",
      "   ---------------------------------------- 0.0/12.8 MB ? eta -:--:--\n",
      "   ---------------------------------------- 0.0/12.8 MB ? eta -:--:--\n",
      "   -- ------------------------------------- 0.8/12.8 MB 3.3 MB/s eta 0:00:04\n",
      "   --------- ------------------------------ 3.1/12.8 MB 7.4 MB/s eta 0:00:02\n",
      "   --------------------------- ------------ 8.9/12.8 MB 14.6 MB/s eta 0:00:01\n",
      "   ---------------------------------------- 12.8/12.8 MB 16.4 MB/s eta 0:00:00\n",
      "Installing collected packages: cvxopt\n",
      "Successfully installed cvxopt-1.3.2\n"
     ]
    },
    {
     "name": "stderr",
     "output_type": "stream",
     "text": [
      "\n",
      "[notice] A new release of pip is available: 24.2 -> 24.3.1\n",
      "[notice] To update, run: python.exe -m pip install --upgrade pip\n"
     ]
    }
   ],
   "source": [
    "!pip install cvxopt"
   ]
  },
  {
   "cell_type": "code",
   "execution_count": 3,
   "metadata": {},
   "outputs": [
    {
     "ename": "",
     "evalue": "",
     "output_type": "error",
     "traceback": [
      "\u001b[1;31mThe Kernel crashed while executing code in the current cell or a previous cell. \n",
      "\u001b[1;31mPlease review the code in the cell(s) to identify a possible cause of the failure. \n",
      "\u001b[1;31mClick <a href='https://aka.ms/vscodeJupyterKernelCrash'>here</a> for more info. \n",
      "\u001b[1;31mView Jupyter <a href='command:jupyter.viewOutput'>log</a> for further details."
     ]
    }
   ],
   "source": [
    "import cvxpy as cp\n",
    "import numpy as np\n",
    "\n",
    "def optimize(dim, obsv, expct, tol=1e-5):\n",
    "    # Define the variable\n",
    "    sigma = cp.Variable((dim, dim), complex=True)\n",
    "    \n",
    "    # Define the objective function: minimize the nuclear norm\n",
    "    objective = cp.Minimize(cp.norm(sigma, 'nuc'))\n",
    "    \n",
    "    # Define the constraints\n",
    "    constraints = [cp.real(cp.trace(sigma)) == 1]\n",
    "    for o, e in zip(obsv, expct):\n",
    "        # Add constraints for each observation and expected value\n",
    "        constraints.append(cp.abs(cp.trace(sigma @ Pauli(o).to_matrix()) - e) <= tol)\n",
    "    \n",
    "    # Define and solve the problem\n",
    "    problem = cp.Problem(objective, constraints)\n",
    "    problem.solve(solver=cp.CVXOPT)  # You can choose other solvers like cp.SCS, cp.MOSEK, cp.CVXOPT, etc.\n",
    "    \n",
    "    # Check the status and return the result\n",
    "    if problem.status in [cp.OPTIMAL, cp.OPTIMAL_INACCURATE]:\n",
    "        print(\"Optimization successful:\", problem.status)\n",
    "        return sigma.value\n",
    "    else:\n",
    "        raise ValueError('Optimization failed:' + str(problem.status))\n",
    "\n",
    "sigma = optimize(d, observables, expectations)\n",
    "print(f'fidelity between outcome and target is {get_fidelity(sigma, state)}')\n",
    "Beep(1000, 2000)\n"
   ]
  }
 ],
 "metadata": {
  "kernelspec": {
   "display_name": ".venv",
   "language": "python",
   "name": "python3"
  },
  "language_info": {
   "codemirror_mode": {
    "name": "ipython",
    "version": 3
   },
   "file_extension": ".py",
   "mimetype": "text/x-python",
   "name": "python",
   "nbconvert_exporter": "python",
   "pygments_lexer": "ipython3",
   "version": "3.11.9"
  }
 },
 "nbformat": 4,
 "nbformat_minor": 2
}

{
 "cells": [
  {
   "cell_type": "code",
   "execution_count": 110,
   "metadata": {},
   "outputs": [],
   "source": [
    "from qiskit import QuantumCircuit, transpile, assemble\n",
    "from qiskit.quantum_info import Statevector, DensityMatrix, Pauli, Operator, random_statevector, partial_trace\n",
    "from qiskit_aer import AerSimulator, Aer\n",
    "import numpy as np\n",
    "from scipy.linalg import sqrtm\n",
    "import cvxpy as cp\n",
    "import itertools\n",
    "from IPython.display import clear_output\n",
    "from winsound import Beep\n",
    "\n",
    "def tensor_prod(*tensors):\n",
    "    if len(tensors) == 2:\n",
    "        return np.kron(tensors[0], tensors[1])\n",
    "    else:\n",
    "        return np.kron(tensors[0], tensor_prod(*tensors[1:]))\n",
    "    \n",
    "def hermitian(matrix):\n",
    "    return np.allclose(matrix, matrix.conj().T)\n",
    "\n",
    "def trace_one(matrix):\n",
    "    return np.isclose(np.trace(matrix), 1)\n",
    "\n",
    "def positive_semi_definite(matrix, tol=1e-8):\n",
    "    return np.all(np.linalg.eigvals(matrix) + tol >= 0)\n",
    "\n",
    "def is_legal(matrix):\n",
    "    return hermitian(matrix) and trace_one(matrix) and positive_semi_definite(matrix)\n",
    "\n",
    "def check_legal(matrix, print_errors=True):\n",
    "    errors, legal = [], True\n",
    "    if not hermitian(matrix):\n",
    "        errors.append('not hermitian')\n",
    "    if not trace_one(matrix):\n",
    "        errors.append('trace not equal to one')\n",
    "    if not positive_semi_definite(matrix):\n",
    "        errors.append('not positive semidefinite')\n",
    "    if len(errors) > 0:\n",
    "        legal = False\n",
    "    if print_errors:\n",
    "        if not legal:\n",
    "            print(f'input is not legal: ' + '; '.join(errors))\n",
    "        else: \n",
    "            print('input is a legal density matrix')\n",
    "    return legal\n",
    "        \n",
    "        \n",
    "def generate_prob_lst(num_states):\n",
    "    prob_lst = np.array([np.random.random() for _ in range(num_states)])\n",
    "    prob_lst /= np.sum(prob_lst)\n",
    "    return prob_lst\n",
    "\n",
    "def get_rank(dm, tol=1e-10):\n",
    "    return int(np.sum(np.linalg.eigvalsh(dm) > tol))\n",
    "\n",
    "def get_fidelity(dm1, dm2, tol=1e-5):\n",
    "    # assert is_legal(dm1) and is_legal(dm2), 'inputs are not legal density matrices'\n",
    "    if not is_legal(dm1) and is_legal(dm2):\n",
    "        print(\"Warning: inputs are not legal density matrices\")\n",
    "    try: \n",
    "        fidelity = (np.trace(sqrtm(sqrtm(dm1) @ dm2 @ sqrtm(dm1)))) ** 2\n",
    "    except ValueError:\n",
    "        print('fidelity cannot be computed for given inputs')\n",
    "    assert np.abs(np.imag(fidelity)) < tol, 'fidelity is not real within tol'\n",
    "    return fidelity.real\n",
    "\n",
    "def generate_dm(num_qubits, num_states, state_lst=None, prob_lst=None, prime_prob=None):\n",
    "    assert (prob_lst is None) or (prime_prob is None), 'cannot set prob_lst and prime_prob together'\n",
    "    if state_lst is None:\n",
    "        state_lst = [random_statevector(2**num_qubits) for _ in range(num_states)]\n",
    "    if prime_prob is not None:\n",
    "        prob_lst = np.array([prime_prob] + (generate_prob_lst(num_states - 1) * (1 - prime_prob)).tolist())\n",
    "    elif prob_lst is None:\n",
    "        prob_lst = generate_prob_lst(num_states)\n",
    "    density_matrix = sum([DensityMatrix(state_lst[i]).data * prob_lst[i] for i in range(num_states)])\n",
    "    return density_matrix\n",
    "\n",
    "def generate_random_Pauli_strings(num_strings, length, contain_I=True):\n",
    "    if contain_I:\n",
    "        characters = ['I', 'X', 'Y', 'Z']\n",
    "    else:\n",
    "        characters = ['X', 'Y', 'Z']\n",
    "    generated_strings = []\n",
    "    assert num_strings < len(characters) ** length, 'too much strings to generate'\n",
    "    for _ in range(num_strings):\n",
    "        while True:\n",
    "            random_string = ''.join(np.random.choice(characters) for _ in range(length))\n",
    "            if random_string != 'I' * length and random_string not in generated_strings:\n",
    "                generated_strings.append(random_string)\n",
    "                break\n",
    "    return generated_strings\n",
    "\n",
    "def generate_random_01_strings(num_strings, length):\n",
    "    characters = ['0', '1']\n",
    "    generated_strings = []\n",
    "    assert num_strings < 2 ** length, 'too much strings to generate'\n",
    "    for _ in range(num_strings):\n",
    "        while True:\n",
    "            random_string = ''.join(np.random.choice(characters) for _ in range(length))\n",
    "            if random_string != '0' * length and random_string not in generated_strings:\n",
    "                generated_strings.append(random_string)\n",
    "                break\n",
    "    return generated_strings\n",
    "\n",
    "def generate_uv_Pauli_matrix(u_vec, v_vec):\n",
    "    uv_map = {\n",
    "        '00':'I', '01':'Z', '10':'X', '11':'Y'\n",
    "    }\n",
    "    Pauli_string = ''\n",
    "    for u, v in zip(u_vec, v_vec):\n",
    "        Pauli_char = uv_map.get(str(u) + str(v))\n",
    "        if Pauli_char is None:\n",
    "            raise ValueError('u or v list contains elements neither 0 or 1')\n",
    "        else:\n",
    "            Pauli_string += Pauli_char\n",
    "    return Pauli_string\n",
    "\n",
    "def generate_all_binary(length):\n",
    "    all_strings = itertools.product('01', repeat=length)\n",
    "    result = [''.join(s) for s in all_strings if '1' in s]\n",
    "    return result\n",
    "\n",
    "def generate_Pauli_expectations(dm, obsv):\n",
    "    return np.trace(dm @ Pauli(obsv).to_matrix()).real\n",
    "\n",
    "def get_trace_norm(dm):\n",
    "    return np.sum(np.linalg.svd(dm, compute_uv=False))"
   ]
  },
  {
   "cell_type": "code",
   "execution_count": 45,
   "metadata": {},
   "outputs": [],
   "source": [
    "def estimate_Pauli_expectations(dm, obsv, num_samples, simulation=False):\n",
    "    num_samples = int(num_samples)\n",
    "    if simulation: # simulate the process of sampling\n",
    "        exp = np.real(np.trace(dm @ Pauli(obsv).to_matrix()))\n",
    "        prob_p1 = (1 + exp) / 2\n",
    "        prob_m1 = 1 - prob_p1\n",
    "        samples = np.random.choice([+1, -1], size=num_samples, p=[prob_p1, prob_m1])\n",
    "        return np.mean(samples)\n",
    "    else: # use the approximate distribution instead\n",
    "        exp = np.real(np.trace(dm @ Pauli(obsv).to_matrix()))\n",
    "        num_samples_root = num_samples ** .5\n",
    "        std_dev = (1 - exp ** 2) ** .5 / num_samples_root\n",
    "        return np.random.normal(exp, std_dev)"
   ]
  },
  {
   "cell_type": "code",
   "execution_count": 114,
   "metadata": {},
   "outputs": [],
   "source": [
    "def get_partial_trace(dm, subsystems):\n",
    "    return partial_trace(dm, subsystems).data\n",
    "\n",
    "def get_von_neumann_entropy(dm, r=None):\n",
    "    # if not np.allclose(dm, dm.conj().T):\n",
    "    #     raise ValueError(\"The density matrix must be Hermitian.\")\n",
    "    if r is None:\n",
    "        eigenvalues = np.linalg.eigvalsh(dm)\n",
    "        eigenvalues = eigenvalues[eigenvalues > 0]\n",
    "        entropy = - np.sum(eigenvalues * np.log2(eigenvalues))\n",
    "    else:\n",
    "        eigenvalues = np.linalg.eigvalsh(dm)\n",
    "        eigenvalues = np.partition(eigenvalues, -r)[-r:]\n",
    "        entropy = - np.sum(eigenvalues * np.log2(eigenvalues))\n",
    "    return entropy\n",
    "\n",
    "def get_TMI(dm):\n",
    "    dm_s = get_partial_trace(dm, [1, 2])\n",
    "    dm_m1 = get_partial_trace(dm, [0, 2])\n",
    "    dm_m2 = get_partial_trace(dm, [1, 2])\n",
    "    dm_m = get_partial_trace(dm, [0])\n",
    "    dm_sm1 = get_partial_trace(dm, [2])\n",
    "    dm_sm2 = get_partial_trace(dm, [1])\n",
    "    i2_sm1 = get_von_neumann_entropy(dm_s) + get_von_neumann_entropy(dm_m1) - get_von_neumann_entropy(dm_sm1)\n",
    "    i2_sm2 = get_von_neumann_entropy(dm_s) + get_von_neumann_entropy(dm_m2) - get_von_neumann_entropy(dm_sm2)\n",
    "    i2_sm = get_von_neumann_entropy(dm_s) + get_von_neumann_entropy(dm_m) - get_von_neumann_entropy(dm)\n",
    "    return i2_sm1 + i2_sm2 - i2_sm"
   ]
  },
  {
   "cell_type": "code",
   "execution_count": 55,
   "metadata": {},
   "outputs": [
    {
     "name": "stdout",
     "output_type": "stream",
     "text": [
      "input is a legal density matrix\n"
     ]
    }
   ],
   "source": [
    "# Prepare a state for measurement\n",
    "num_qubit = 3\n",
    "state = generate_dm(num_qubit, 5, prime_prob=.99)\n",
    "check_legal(state)\n",
    "r = np.sum(np.linalg.eigvals(state) > 2e-2)\n",
    "d = 2 ** num_qubit\n",
    "num_samples = 1e12\n",
    "\n",
    "# Prepare observables\n",
    "# c = 1\n",
    "# len_u_lst = int(c * r * (np.log(d)) ** 2)\n",
    "len_u_lst = 7 # manually set number of observables\n",
    "v_lst = generate_all_binary(num_qubit)\n",
    "u_lst = np.random.choice(v_lst, len_u_lst)\n",
    "observables = [generate_uv_Pauli_matrix(u_vec, v_vec) for u_vec, v_vec in list(itertools.product(u_lst, v_lst))]\n",
    "expectations = [estimate_Pauli_expectations(state, obsv, num_samples) for obsv in observables]"
   ]
  },
  {
   "cell_type": "code",
   "execution_count": 56,
   "metadata": {},
   "outputs": [
    {
     "data": {
      "text/plain": [
       "np.True_"
      ]
     },
     "execution_count": 56,
     "metadata": {},
     "output_type": "execute_result"
    }
   ],
   "source": [
    "np.all(\n",
    "    np.array(\n",
    "        [np.abs(np.trace(state @ Pauli(o).to_matrix()) - e) <= 1e-5 for o, e in zip(observables, expectations)]\n",
    "    )\n",
    ")"
   ]
  },
  {
   "cell_type": "code",
   "execution_count": null,
   "metadata": {},
   "outputs": [
    {
     "name": "stdout",
     "output_type": "stream",
     "text": [
      "optimal\n",
      "fidelity between outcome and target is 0.9983758114561067\n"
     ]
    }
   ],
   "source": [
    "def optimize(dim, obsv, expct, tol=1e-5):\n",
    "    sigma = cp.Variable((dim, dim), complex=True)\n",
    "    objective = cp.Minimize(cp.abs(5 * cp.norm(sigma, 'nuc') + 0 * cp.norm(sigma, 'fro') ** 2))\n",
    "    constraints = [cp.trace(sigma) == 1]\n",
    "    for o, e in zip(obsv, expct):\n",
    "        constraints.append(cp.abs(cp.trace(sigma @ Pauli(o).to_matrix()) - e) <= tol)\n",
    "    problem = cp.Problem(objective, constraints)\n",
    "    problem.solve()\n",
    "    print(problem.status)\n",
    "    return sigma.value\n",
    "    \n",
    "    \n",
    "sigma = optimize(d, observables, expectations)\n",
    "print(f'fidelity between outcome and target is {get_fidelity(sigma, state, tol=1e-6)}')\n",
    "Beep(1000, 2000)"
   ]
  },
  {
   "cell_type": "code",
   "execution_count": 93,
   "metadata": {},
   "outputs": [
    {
     "name": "stdout",
     "output_type": "stream",
     "text": [
      "-0.1523516230359947\n",
      "-0.15004137995892886\n"
     ]
    }
   ],
   "source": [
    "print(get_TMI(state))\n",
    "print(get_TMI(sigma))"
   ]
  },
  {
   "cell_type": "code",
   "execution_count": 100,
   "metadata": {},
   "outputs": [
    {
     "name": "stdout",
     "output_type": "stream",
     "text": [
      "the average error is -0.015146091048427986\n"
     ]
    }
   ],
   "source": [
    "errors = []\n",
    "\n",
    "for _ in range(50):\n",
    "    num_qubit = 3\n",
    "    state = generate_dm(num_qubit, 5, prime_prob=.99)\n",
    "    r = np.sum(np.linalg.eigvals(state) > 2e-2)\n",
    "    d = 2 ** num_qubit\n",
    "    num_samples = 1e12\n",
    "    # len_u_lst = 7 # manually set number of observables\n",
    "    # v_lst = generate_all_binary(num_qubit)\n",
    "    # u_lst = np.random.choice(v_lst, len_u_lst)\n",
    "    # observables = [generate_uv_Pauli_matrix(u_vec, v_vec) for u_vec, v_vec in list(itertools.product(u_lst, v_lst))]\n",
    "    observables = generate_random_Pauli_strings(49, 3, contain_I=True)\n",
    "    expectations = [estimate_Pauli_expectations(state, obsv, num_samples) for obsv in observables]\n",
    "    def optimize(dim, obsv, expct, tol=1e-5):\n",
    "        sigma = cp.Variable((dim, dim), complex=True)\n",
    "        objective = cp.Minimize(cp.abs(5 * cp.norm(sigma, 'nuc') + 0 * cp.norm(sigma, 'fro') ** 2))\n",
    "        constraints = [cp.trace(sigma) == 1]\n",
    "        for o, e in zip(obsv, expct):\n",
    "            constraints.append(cp.abs(cp.trace(sigma @ Pauli(o).to_matrix()) - e) <= tol)\n",
    "        problem = cp.Problem(objective, constraints)\n",
    "        problem.solve()\n",
    "        return sigma.value\n",
    "    sigma = optimize(d, observables, expectations)\n",
    "    error = (get_TMI(sigma) - get_TMI(state)) / get_TMI(state)\n",
    "    errors.append(error)\n",
    "    \n",
    "print(f\"the average error is {np.mean(errors)}\")"
   ]
  },
  {
   "cell_type": "code",
   "execution_count": 115,
   "metadata": {},
   "outputs": [
    {
     "name": "stdout",
     "output_type": "stream",
     "text": [
      "the average error is 0.0037107325834547893\n"
     ]
    }
   ],
   "source": [
    "errors, i3s = [], []\n",
    "\n",
    "for _ in range(50):\n",
    "    num_qubit = 3\n",
    "    state = generate_dm(num_qubit, 5, prime_prob=.99)\n",
    "    r = np.sum(np.linalg.eigvals(state) > 2e-2)\n",
    "    d = 2 ** num_qubit\n",
    "    num_samples = 1e12\n",
    "    # len_u_lst = 7 # manually set number of observables\n",
    "    # v_lst = generate_all_binary(num_qubit)\n",
    "    # u_lst = np.random.choice(v_lst, len_u_lst)\n",
    "    # observables = [generate_uv_Pauli_matrix(u_vec, v_vec) for u_vec, v_vec in list(itertools.product(u_lst, v_lst))]\n",
    "    observables = generate_random_Pauli_strings(49, 3, contain_I=True)\n",
    "    expectations = [estimate_Pauli_expectations(state, obsv, num_samples) for obsv in observables]\n",
    "    def optimize(dim, obsv, expct, tol=1e-5):\n",
    "        sigma = cp.Variable((dim, dim), complex=True)\n",
    "        objective = cp.Minimize(cp.abs(5 * cp.norm(sigma, 'nuc') + 0 * cp.norm(sigma, 'fro') ** 2))\n",
    "        constraints = [cp.trace(sigma) == 1]\n",
    "        for o, e in zip(obsv, expct):\n",
    "            constraints.append(cp.abs(cp.trace(sigma @ Pauli(o).to_matrix()) - e) <= tol)\n",
    "        problem = cp.Problem(objective, constraints)\n",
    "        problem.solve()\n",
    "        return sigma.value\n",
    "    sigma = optimize(d, observables, expectations)\n",
    "    error = (get_TMI(sigma) - get_TMI(state)) / get_TMI(state)\n",
    "    errors.append(error)\n",
    "    i3s.append(get_TMI(state))\n",
    "    \n",
    "print(f\"the average error is {np.mean(errors)}\")"
   ]
  },
  {
   "cell_type": "code",
   "execution_count": 117,
   "metadata": {},
   "outputs": [
    {
     "data": {
      "text/plain": [
       "[np.float64(-0.0875529847131673),\n",
       " np.float64(-0.19666985491902889),\n",
       " np.float64(-0.10608325118141848),\n",
       " np.float64(0.06985814455450923),\n",
       " np.float64(-0.20072165453535185),\n",
       " np.float64(0.03422640469217342),\n",
       " np.float64(-0.0553975291336255),\n",
       " np.float64(-0.22015042830872256),\n",
       " np.float64(0.2812033900450295),\n",
       " np.float64(-0.009784107988202173),\n",
       " np.float64(-0.030401616923425134),\n",
       " np.float64(-0.14091500092749687),\n",
       " np.float64(-0.15012327987794394),\n",
       " np.float64(0.011135656304527952),\n",
       " np.float64(0.16762463464488353),\n",
       " np.float64(-0.176756743978836),\n",
       " np.float64(0.16096304659432525),\n",
       " np.float64(-0.0039635929147587845),\n",
       " np.float64(0.1863104107672542),\n",
       " np.float64(0.06483958144638957),\n",
       " np.float64(-0.23457551108653907),\n",
       " np.float64(-0.040617205639180476),\n",
       " np.float64(-0.2840706820950123),\n",
       " np.float64(-0.10278565934931394),\n",
       " np.float64(0.3140498545951027),\n",
       " np.float64(-0.012747693580562824),\n",
       " np.float64(0.038283533972016226),\n",
       " np.float64(-0.01188753974018808),\n",
       " np.float64(-0.16714297388835697),\n",
       " np.float64(0.006656642429448301),\n",
       " np.float64(0.4180829987100392),\n",
       " np.float64(0.14877384607273814),\n",
       " np.float64(0.04847472851335488),\n",
       " np.float64(-0.004937555785945458),\n",
       " np.float64(-0.1161368329340915),\n",
       " np.float64(0.31478893452976364),\n",
       " np.float64(-0.1741568643124567),\n",
       " np.float64(0.19089920461206522),\n",
       " np.float64(0.06845319113613546),\n",
       " np.float64(0.07776437377228773),\n",
       " np.float64(-0.020385917956200927),\n",
       " np.float64(-0.12126361720388323),\n",
       " np.float64(-0.0524104957821625),\n",
       " np.float64(-0.04130685670306722),\n",
       " np.float64(0.07246426466109002),\n",
       " np.float64(-0.11825027539512778),\n",
       " np.float64(0.09181868747009236),\n",
       " np.float64(0.1257129454601429),\n",
       " np.float64(-0.270069492290821),\n",
       " np.float64(0.020381276981997543)]"
      ]
     },
     "execution_count": 117,
     "metadata": {},
     "output_type": "execute_result"
    }
   ],
   "source": [
    "i3s"
   ]
  },
  {
   "cell_type": "code",
   "execution_count": 116,
   "metadata": {},
   "outputs": [
    {
     "name": "stdout",
     "output_type": "stream",
     "text": [
      "0.020381276981997543\n",
      "0.023802723160014416\n"
     ]
    }
   ],
   "source": [
    "print(get_TMI(state))\n",
    "print(get_TMI(sigma))"
   ]
  }
 ],
 "metadata": {
  "kernelspec": {
   "display_name": ".venv",
   "language": "python",
   "name": "python3"
  },
  "language_info": {
   "codemirror_mode": {
    "name": "ipython",
    "version": 3
   },
   "file_extension": ".py",
   "mimetype": "text/x-python",
   "name": "python",
   "nbconvert_exporter": "python",
   "pygments_lexer": "ipython3",
   "version": "3.11.9"
  }
 },
 "nbformat": 4,
 "nbformat_minor": 2
}

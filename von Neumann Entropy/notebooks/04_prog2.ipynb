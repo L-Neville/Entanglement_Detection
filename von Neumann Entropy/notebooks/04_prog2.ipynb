{
 "cells": [
  {
   "cell_type": "code",
   "execution_count": 17,
   "metadata": {},
   "outputs": [],
   "source": [
    "from qiskit import QuantumCircuit, transpile, assemble\n",
    "from qiskit.quantum_info import Statevector, DensityMatrix, Pauli, Operator, random_statevector\n",
    "from qiskit_aer import AerSimulator, Aer\n",
    "import numpy as np\n",
    "from scipy.linalg import sqrtm\n",
    "import cvxpy as cp\n",
    "import itertools\n",
    "from IPython.display import clear_output\n",
    "from winsound import Beep\n",
    "\n",
    "def tensor_prod(*tensors):\n",
    "    if len(tensors) == 2:\n",
    "        return np.kron(tensors[0], tensors[1])\n",
    "    else:\n",
    "        return np.kron(tensors[0], tensor_prod(*tensors[1:]))\n",
    "    \n",
    "def hermitian(matrix):\n",
    "    return np.allclose(matrix, matrix.conj().T)\n",
    "\n",
    "def trace_one(matrix):\n",
    "    return np.isclose(np.trace(matrix), 1)\n",
    "\n",
    "def positive_semi_definite(matrix, tol=1e-8):\n",
    "    return np.all(np.linalg.eigvals(matrix) + tol >= 0)\n",
    "\n",
    "def is_legal(matrix):\n",
    "    return hermitian(matrix) and trace_one(matrix) and positive_semi_definite(matrix)\n",
    "\n",
    "def check_legal(matrix, print_errors=True):\n",
    "    errors, legal = [], True\n",
    "    if not hermitian(matrix):\n",
    "        errors.append('not hermitian')\n",
    "    if not trace_one(matrix):\n",
    "        errors.append('trace not equal to one')\n",
    "    if not positive_semi_definite(matrix):\n",
    "        errors.append('not positive semidefinite')\n",
    "    if len(errors) > 0:\n",
    "        legal = False\n",
    "    if print_errors:\n",
    "        if not legal:\n",
    "            print(f'input is not legal: ' + '; '.join(errors))\n",
    "        else: \n",
    "            print('input is a legal density matrix')\n",
    "    return legal\n",
    "        \n",
    "        \n",
    "def generate_prob_lst(num_states):\n",
    "    prob_lst = np.array([np.random.random() for _ in range(num_states)])\n",
    "    prob_lst /= np.sum(prob_lst)\n",
    "    return prob_lst\n",
    "\n",
    "def get_rank(dm, tol=1e-10):\n",
    "    return int(np.sum(np.linalg.eigvalsh(dm) > tol))\n",
    "\n",
    "def get_fidelity(dm1, dm2, tol=1e-5):\n",
    "    # assert is_legal(dm1) and is_legal(dm2), 'inputs are not legal density matrices'\n",
    "    if not is_legal(dm1) and is_legal(dm2):\n",
    "        print(\"Warning: inputs are not legal density matrices\")\n",
    "    try: \n",
    "        fidelity = (np.trace(sqrtm(sqrtm(dm1) @ dm2 @ sqrtm(dm1)))) ** 2\n",
    "    except ValueError:\n",
    "        print('fidelity cannot be computed for given inputs')\n",
    "    assert np.abs(np.imag(fidelity)) < tol, 'fidelity is not real within tol'\n",
    "    return fidelity.real\n",
    "\n",
    "def generate_dm(num_qubits, num_states, state_lst=None, prob_lst=None):\n",
    "    if state_lst is None:\n",
    "        state_lst = [random_statevector(2**num_qubits) for _ in range(num_states)]\n",
    "    if prob_lst is None:\n",
    "        prob_lst = generate_prob_lst(num_states)\n",
    "    density_matrix = sum([DensityMatrix(state_lst[i]).data * prob_lst[i] for i in range(num_states)])\n",
    "    return density_matrix\n",
    "\n",
    "def generate_random_Pauli_strings(num_strings, length, contain_I=True):\n",
    "    if contain_I:\n",
    "        characters = ['I', 'X', 'Y', 'Z']\n",
    "    else:\n",
    "        characters = ['X', 'Y', 'Z']\n",
    "    generated_strings = []\n",
    "    assert num_strings < len(characters) ** length, 'too much strings to generate'\n",
    "    for _ in range(num_strings):\n",
    "        while True:\n",
    "            random_string = ''.join(np.random.choice(characters) for _ in range(length))\n",
    "            if random_string != 'I' * length and random_string not in generated_strings:\n",
    "                generated_strings.append(random_string)\n",
    "                break\n",
    "    return generated_strings\n",
    "\n",
    "def generate_random_01_strings(num_strings, length):\n",
    "    characters = ['0', '1']\n",
    "    generated_strings = []\n",
    "    assert num_strings < 2 ** length, 'too much strings to generate'\n",
    "    for _ in range(num_strings):\n",
    "        while True:\n",
    "            random_string = ''.join(np.random.choice(characters) for _ in range(length))\n",
    "            if random_string != '0' * length and random_string not in generated_strings:\n",
    "                generated_strings.append(random_string)\n",
    "                break\n",
    "    return generated_strings\n",
    "\n",
    "def generate_uv_Pauli_matrix(u_vec, v_vec):\n",
    "    uv_map = {\n",
    "        '00':'I', '01':'Z', '10':'X', '11':'Y'\n",
    "    }\n",
    "    Pauli_string = ''\n",
    "    for u, v in zip(u_vec, v_vec):\n",
    "        Pauli_char = uv_map.get(str(u) + str(v))\n",
    "        if Pauli_char is None:\n",
    "            raise ValueError('u or v list contains elements neither 0 or 1')\n",
    "        else:\n",
    "            Pauli_string += Pauli_char\n",
    "    return Pauli_string\n",
    "\n",
    "def generate_all_binary(length):\n",
    "    all_strings = itertools.product('01', repeat=length)\n",
    "    result = [''.join(s) for s in all_strings if '1' in s]\n",
    "    return result\n",
    "\n",
    "def generate_Pauli_expectations(dm, obsv):\n",
    "    return np.trace(dm @ Pauli(obsv).to_matrix()).real\n",
    "\n",
    "def get_trace_norm(dm):\n",
    "    return np.sum(np.linalg.svd(dm, compute_uv=False))"
   ]
  },
  {
   "cell_type": "code",
   "execution_count": 23,
   "metadata": {},
   "outputs": [],
   "source": [
    "def estimate_Pauli_expectations(dm, obsv, num_samples, simulation=False):\n",
    "    num_samples = int(num_samples)\n",
    "    if simulation: # simulate the process of sampling\n",
    "        exp = np.real(np.trace(dm @ Pauli(obsv).to_matrix()))\n",
    "        prob_p1 = (1 + exp) / 2\n",
    "        prob_m1 = 1 - prob_p1\n",
    "        samples = np.random.choice([+1, -1], size=num_samples, p=[prob_p1, prob_m1])\n",
    "        return np.mean(samples)\n",
    "    else: # use the approximate distribution instead\n",
    "        exp = np.real(np.trace(dm @ Pauli(obsv).to_matrix()))\n",
    "        num_samples_root = num_samples ** .5\n",
    "        std_dev = (1 - exp ** 2) ** .5 / num_samples_root\n",
    "        return np.random.normal(exp, std_dev)"
   ]
  },
  {
   "cell_type": "code",
   "execution_count": 24,
   "metadata": {},
   "outputs": [],
   "source": [
    "# Prepare a state for measurement\n",
    "num_qubit = 7\n",
    "state = generate_dm(7, 5, prob_lst=np.array([.96, .01, .01, .01, .01]))\n",
    "r = np.sum(np.linalg.eigvals(state) > 2e-2)\n",
    "d = 2 ** num_qubit\n",
    "num_samples = 1e10\n",
    "\n",
    "# Prepare observables\n",
    "c = 1\n",
    "len_u_lst = int(c * r * (np.log(d)) ** 2)\n",
    "v_lst = generate_all_binary(num_qubit)\n",
    "u_lst = np.random.choice(v_lst, len_u_lst)\n",
    "observables = [generate_uv_Pauli_matrix(u_vec, v_vec) for u_vec, v_vec in list(itertools.product(u_lst, v_lst))]\n",
    "expectations = [estimate_Pauli_expectations(state, obsv, num_samples) for obsv in observables]"
   ]
  },
  {
   "cell_type": "code",
   "execution_count": 27,
   "metadata": {},
   "outputs": [
    {
     "data": {
      "text/plain": [
       "np.True_"
      ]
     },
     "execution_count": 27,
     "metadata": {},
     "output_type": "execute_result"
    }
   ],
   "source": [
    "np.all(\n",
    "    np.array(\n",
    "        [np.abs(np.trace(state @ Pauli(o).to_matrix()) - e) <= 5e-5 for o, e in zip(observables, expectations)]\n",
    "    )\n",
    ")"
   ]
  },
  {
   "cell_type": "code",
   "execution_count": 28,
   "metadata": {},
   "outputs": [
    {
     "name": "stdout",
     "output_type": "stream",
     "text": [
      "optimal\n",
      "Warning: inputs are not legal density matrices\n",
      "fidelity between outcome and target is 0.9922130030065852\n"
     ]
    }
   ],
   "source": [
    "def optimize(dim, obsv, expct, tol=5e-5):\n",
    "    sigma = cp.Variable((dim, dim), complex=True)\n",
    "    objective = cp.Minimize(cp.abs(5 * cp.norm(sigma, 'nuc') + .5 * cp.norm(sigma, 'fro') ** 2))\n",
    "    constraints = [cp.trace(sigma) == 1]\n",
    "    for o, e in zip(obsv, expct):\n",
    "        constraints.append(cp.abs(cp.trace(sigma @ Pauli(o).to_matrix()) - e) <= tol)\n",
    "    problem = cp.Problem(objective, constraints)\n",
    "    problem.solve()\n",
    "    print(problem.status)\n",
    "    return sigma.value\n",
    "    \n",
    "    \n",
    "sigma = optimize(d, observables, expectations)\n",
    "print(f'fidelity between outcome and target is {get_fidelity(sigma, state)}')\n",
    "Beep(1000, 2000)"
   ]
  },
  {
   "cell_type": "code",
   "execution_count": 13,
   "metadata": {},
   "outputs": [],
   "source": [
    "with open('observables.txt', 'w') as file:\n",
    "    for string in observables:\n",
    "        file.write(f\"{string}\\n\")"
   ]
  },
  {
   "cell_type": "code",
   "execution_count": 15,
   "metadata": {},
   "outputs": [],
   "source": [
    "from scipy.io import savemat\n",
    "savemat('array.mat', {'data': expectations})"
   ]
  },
  {
   "cell_type": "code",
   "execution_count": null,
   "metadata": {},
   "outputs": [
    {
     "name": "stderr",
     "output_type": "stream",
     "text": [
      "c:\\Users\\Neville\\Documents\\Quantum Computing 3\\Entanglement Detection\\.venv\\Lib\\site-packages\\cvxpy\\problems\\problem.py:158: UserWarning: Objective contains too many subexpressions. Consider vectorizing your CVXPY code to speed up compilation.\n",
      "  warnings.warn(\"Objective contains too many subexpressions. \"\n"
     ]
    }
   ],
   "source": [
    "def optimize(dim, obsv, expct, tol=5e-2):\n",
    "    sigma = cp.Variable((dim, dim), complex=True)\n",
    "    objective = cp.Minimize(cp.sum([cp.abs(cp.trace(sigma @ Pauli(o).to_matrix()) - e) ** 2 for o, e in zip(obsv, expct)]) + len(obsv) * cp.norm(sigma, 'nuc'))\n",
    "    constraints = [sigma >> 0, cp.trace(sigma) == 1]\n",
    "    problem = cp.Problem(objective, constraints)\n",
    "    problem.solve()\n",
    "    print(problem.status)\n",
    "    return problem.status, sigma.value\n",
    "    \n",
    "    \n",
    "status, sigma = optimize(d, observables, expectations)\n",
    "if status not in [cp.OPTIMAL, cp.OPTIMAL_INACCURATE]:\n",
    "    Beep(3000, 2000) \n",
    "    raise ValueError('optimization failed')\n",
    "else:\n",
    "    check_legal(sigma, print_errors=True)\n",
    "    print(f'fidelity between outcome and target is {get_fidelity(sigma, state)}')\n",
    "    Beep(1000, 2000)"
   ]
  }
 ],
 "metadata": {
  "kernelspec": {
   "display_name": ".venv",
   "language": "python",
   "name": "python3"
  },
  "language_info": {
   "codemirror_mode": {
    "name": "ipython",
    "version": 3
   },
   "file_extension": ".py",
   "mimetype": "text/x-python",
   "name": "python",
   "nbconvert_exporter": "python",
   "pygments_lexer": "ipython3",
   "version": "3.11.9"
  }
 },
 "nbformat": 4,
 "nbformat_minor": 2
}
